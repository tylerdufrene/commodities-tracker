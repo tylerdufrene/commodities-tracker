{
 "cells": [
  {
   "cell_type": "code",
   "execution_count": 16,
   "metadata": {},
   "outputs": [
    {
     "name": "stderr",
     "output_type": "stream",
     "text": [
      "2025-03-25 23:57:05.876 Thread 'MainThread': missing ScriptRunContext! This warning can be ignored when running in bare mode.\n",
      "2025-03-25 23:57:05.877 Thread 'MainThread': missing ScriptRunContext! This warning can be ignored when running in bare mode.\n",
      "2025-03-25 23:57:05.877 Thread 'MainThread': missing ScriptRunContext! This warning can be ignored when running in bare mode.\n",
      "2025-03-25 23:57:05.879 Thread 'MainThread': missing ScriptRunContext! This warning can be ignored when running in bare mode.\n",
      "2025-03-25 23:57:05.880 Thread 'MainThread': missing ScriptRunContext! This warning can be ignored when running in bare mode.\n",
      "2025-03-25 23:57:05.881 Thread 'MainThread': missing ScriptRunContext! This warning can be ignored when running in bare mode.\n",
      "[*********************100%***********************]  1 of 1 completed\n"
     ]
    },
    {
     "ename": "TypeError",
     "evalue": "unsupported format string passed to Series.__format__",
     "output_type": "error",
     "traceback": [
      "\u001b[31m---------------------------------------------------------------------------\u001b[39m",
      "\u001b[31mTypeError\u001b[39m                                 Traceback (most recent call last)",
      "\u001b[36mCell\u001b[39m\u001b[36m \u001b[39m\u001b[32mIn[16]\u001b[39m\u001b[32m, line 29\u001b[39m\n\u001b[32m     26\u001b[39m latest_change = df[\u001b[33m\"\u001b[39m\u001b[33m%\u001b[39m\u001b[33m Change\u001b[39m\u001b[33m\"\u001b[39m].iloc[-\u001b[32m1\u001b[39m]\n\u001b[32m     27\u001b[39m volume = df[\u001b[33m\"\u001b[39m\u001b[33mVolume\u001b[39m\u001b[33m\"\u001b[39m].iloc[-\u001b[32m1\u001b[39m]\n\u001b[32m---> \u001b[39m\u001b[32m29\u001b[39m st.metric(\u001b[33m\"\u001b[39m\u001b[33mPrice\u001b[39m\u001b[33m\"\u001b[39m, \u001b[33mf\u001b[39m\u001b[33m\"\u001b[39m\u001b[33m$\u001b[39m\u001b[38;5;132;01m{\u001b[39;00mlatest_price\u001b[38;5;132;01m:\u001b[39;00m\u001b[33m.2f\u001b[39m\u001b[38;5;132;01m}\u001b[39;00m\u001b[33m\"\u001b[39m, \u001b[33mf\u001b[39m\u001b[33m\"\u001b[39m\u001b[38;5;132;01m{\u001b[39;00mlatest_change\u001b[38;5;132;01m:\u001b[39;00m\u001b[33m.2f\u001b[39m\u001b[38;5;132;01m}\u001b[39;00m\u001b[33m%\u001b[39m\u001b[33m\"\u001b[39m)\n\u001b[32m     30\u001b[39m st.write(\u001b[33mf\u001b[39m\u001b[33m\"\u001b[39m\u001b[33mVolume: \u001b[39m\u001b[38;5;132;01m{\u001b[39;00m\u001b[38;5;28mint\u001b[39m(volume)\u001b[38;5;132;01m:\u001b[39;00m\u001b[33m,\u001b[39m\u001b[38;5;132;01m}\u001b[39;00m\u001b[33m\"\u001b[39m)\n\u001b[32m     32\u001b[39m \u001b[38;5;66;03m# Plot the price + moving average\u001b[39;00m\n",
      "\u001b[31mTypeError\u001b[39m: unsupported format string passed to Series.__format__"
     ]
    }
   ],
   "source": [
    "import streamlit as st\n",
    "import yfinance as yf\n",
    "import pandas as pd\n",
    "import matplotlib.pyplot as plt\n",
    "\n",
    "# Define the commodities and tickers\n",
    "commodities = {\n",
    "    \"Natural Gas\": \"NG=F\",\n",
    "    \"Feeder Cattle\": \"GF=F\"\n",
    "}\n",
    "\n",
    "# Choose time range\n",
    "period = st.selectbox(\"Select time range:\", [\"1mo\", \"3mo\", \"6mo\", \"1y\"])\n",
    "period = '1mo'\n",
    "\n",
    "for name, ticker in commodities.items():\n",
    "\n",
    "\n",
    "    # Download data\n",
    "    df = yf.download(ticker, period=period)\n",
    "    df[\"% Change\"] = df[\"Close\"].pct_change() * 100\n",
    "    df[\"7d MA\"] = df[\"Close\"].rolling(window=7).mean()\n",
    "\n",
    "    # Display latest values\n",
    "    latest_price = df[\"Close\"].iloc[-1]\n",
    "    latest_change = df[\"% Change\"].iloc[-1]\n",
    "    volume = df[\"Volume\"].iloc[-1]\n",
    "\n",
    "    st.metric(\"Price\", f\"${latest_price:.2f}\", f\"{latest_change:.2f}%\")\n",
    "    st.write(f\"Volume: {int(volume):,}\")\n",
    "\n",
    "    # Plot the price + moving average\n",
    "    fig, ax = plt.subplots()\n",
    "    df[\"Close\"].plot(ax=ax, label=\"Close\")\n",
    "    df[\"7d MA\"].plot(ax=ax, label=\"7d MA\", linestyle=\"--\")\n",
    "    ax.set_title(f\"{name} Price Over Time\")\n",
    "    ax.legend()\n",
    "    st.pyplot(fig)\n"
   ]
  },
  {
   "cell_type": "code",
   "execution_count": 3,
   "metadata": {},
   "outputs": [
    {
     "name": "stderr",
     "output_type": "stream",
     "text": [
      "[*********************100%***********************]  1 of 1 completed\n"
     ]
    }
   ],
   "source": [
    "df = yf.download(ticker, period='1mo')"
   ]
  },
  {
   "cell_type": "code",
   "execution_count": 7,
   "metadata": {},
   "outputs": [],
   "source": [
    "df[\"% Change\"] = df[\"Close\"].pct_change() * 100\n",
    "df[\"7d MA\"] = df[\"Close\"].rolling(window=7).mean()\n",
    "\n",
    "# Display latest values\n",
    "latest_price = df[\"Close\"].iloc[-1]\n",
    "latest_change = df[\"% Change\"].iloc[-1]\n",
    "volume = df[\"Volume\"].iloc[-1]\n"
   ]
  },
  {
   "cell_type": "code",
   "execution_count": 23,
   "metadata": {},
   "outputs": [
    {
     "data": {
      "text/plain": [
       "('Price', '$3.89', '-0.72%')"
      ]
     },
     "execution_count": 23,
     "metadata": {},
     "output_type": "execute_result"
    }
   ],
   "source": [
    "\"Price\", f\"${latest_price.values[0]:.2f}\", f\"{latest_change:.2f}%\""
   ]
  },
  {
   "cell_type": "code",
   "execution_count": 27,
   "metadata": {},
   "outputs": [
    {
     "data": {
      "text/html": [
       "<div>\n",
       "<style scoped>\n",
       "    .dataframe tbody tr th:only-of-type {\n",
       "        vertical-align: middle;\n",
       "    }\n",
       "\n",
       "    .dataframe tbody tr th {\n",
       "        vertical-align: top;\n",
       "    }\n",
       "\n",
       "    .dataframe thead th {\n",
       "        text-align: right;\n",
       "    }\n",
       "</style>\n",
       "<table border=\"1\" class=\"dataframe\">\n",
       "  <thead>\n",
       "    <tr style=\"text-align: right;\">\n",
       "      <th></th>\n",
       "      <th>Date</th>\n",
       "      <th>Close</th>\n",
       "      <th>High</th>\n",
       "      <th>Low</th>\n",
       "      <th>Open</th>\n",
       "      <th>Volume</th>\n",
       "      <th>% Change</th>\n",
       "      <th>7d MA</th>\n",
       "    </tr>\n",
       "  </thead>\n",
       "  <tbody>\n",
       "    <tr>\n",
       "      <th>0</th>\n",
       "      <td>2024-09-26</td>\n",
       "      <td>2.585</td>\n",
       "      <td>2.690</td>\n",
       "      <td>2.524</td>\n",
       "      <td>2.640</td>\n",
       "      <td>187374</td>\n",
       "      <td>NaN</td>\n",
       "      <td>NaN</td>\n",
       "    </tr>\n",
       "    <tr>\n",
       "      <th>1</th>\n",
       "      <td>2024-09-27</td>\n",
       "      <td>2.902</td>\n",
       "      <td>2.932</td>\n",
       "      <td>2.720</td>\n",
       "      <td>2.744</td>\n",
       "      <td>224258</td>\n",
       "      <td>12.263053</td>\n",
       "      <td>NaN</td>\n",
       "    </tr>\n",
       "    <tr>\n",
       "      <th>2</th>\n",
       "      <td>2024-09-30</td>\n",
       "      <td>2.923</td>\n",
       "      <td>2.948</td>\n",
       "      <td>2.865</td>\n",
       "      <td>2.899</td>\n",
       "      <td>156783</td>\n",
       "      <td>0.723644</td>\n",
       "      <td>NaN</td>\n",
       "    </tr>\n",
       "    <tr>\n",
       "      <th>3</th>\n",
       "      <td>2024-10-01</td>\n",
       "      <td>2.896</td>\n",
       "      <td>2.942</td>\n",
       "      <td>2.825</td>\n",
       "      <td>2.907</td>\n",
       "      <td>161084</td>\n",
       "      <td>-0.923715</td>\n",
       "      <td>NaN</td>\n",
       "    </tr>\n",
       "    <tr>\n",
       "      <th>4</th>\n",
       "      <td>2024-10-02</td>\n",
       "      <td>2.886</td>\n",
       "      <td>3.000</td>\n",
       "      <td>2.870</td>\n",
       "      <td>2.898</td>\n",
       "      <td>162673</td>\n",
       "      <td>-0.345304</td>\n",
       "      <td>NaN</td>\n",
       "    </tr>\n",
       "    <tr>\n",
       "      <th>...</th>\n",
       "      <td>...</td>\n",
       "      <td>...</td>\n",
       "      <td>...</td>\n",
       "      <td>...</td>\n",
       "      <td>...</td>\n",
       "      <td>...</td>\n",
       "      <td>...</td>\n",
       "      <td>...</td>\n",
       "    </tr>\n",
       "    <tr>\n",
       "      <th>119</th>\n",
       "      <td>2025-03-19</td>\n",
       "      <td>4.247</td>\n",
       "      <td>4.259</td>\n",
       "      <td>4.046</td>\n",
       "      <td>4.052</td>\n",
       "      <td>149299</td>\n",
       "      <td>4.812442</td>\n",
       "      <td>4.152714</td>\n",
       "    </tr>\n",
       "    <tr>\n",
       "      <th>120</th>\n",
       "      <td>2025-03-20</td>\n",
       "      <td>3.975</td>\n",
       "      <td>4.247</td>\n",
       "      <td>3.955</td>\n",
       "      <td>4.209</td>\n",
       "      <td>185932</td>\n",
       "      <td>-6.404528</td>\n",
       "      <td>4.084429</td>\n",
       "    </tr>\n",
       "    <tr>\n",
       "      <th>121</th>\n",
       "      <td>2025-03-21</td>\n",
       "      <td>3.980</td>\n",
       "      <td>4.045</td>\n",
       "      <td>3.864</td>\n",
       "      <td>3.961</td>\n",
       "      <td>125273</td>\n",
       "      <td>0.125789</td>\n",
       "      <td>4.069571</td>\n",
       "    </tr>\n",
       "    <tr>\n",
       "      <th>122</th>\n",
       "      <td>2025-03-24</td>\n",
       "      <td>3.914</td>\n",
       "      <td>4.012</td>\n",
       "      <td>3.862</td>\n",
       "      <td>3.880</td>\n",
       "      <td>78987</td>\n",
       "      <td>-1.658291</td>\n",
       "      <td>4.041429</td>\n",
       "    </tr>\n",
       "    <tr>\n",
       "      <th>123</th>\n",
       "      <td>2025-03-25</td>\n",
       "      <td>3.888</td>\n",
       "      <td>3.908</td>\n",
       "      <td>3.857</td>\n",
       "      <td>3.866</td>\n",
       "      <td>809</td>\n",
       "      <td>-0.664283</td>\n",
       "      <td>4.010571</td>\n",
       "    </tr>\n",
       "  </tbody>\n",
       "</table>\n",
       "<p>124 rows × 8 columns</p>\n",
       "</div>"
      ],
      "text/plain": [
       "           Date  Close   High    Low   Open  Volume   % Change     7d MA\n",
       "0    2024-09-26  2.585  2.690  2.524  2.640  187374        NaN       NaN\n",
       "1    2024-09-27  2.902  2.932  2.720  2.744  224258  12.263053       NaN\n",
       "2    2024-09-30  2.923  2.948  2.865  2.899  156783   0.723644       NaN\n",
       "3    2024-10-01  2.896  2.942  2.825  2.907  161084  -0.923715       NaN\n",
       "4    2024-10-02  2.886  3.000  2.870  2.898  162673  -0.345304       NaN\n",
       "..          ...    ...    ...    ...    ...     ...        ...       ...\n",
       "119  2025-03-19  4.247  4.259  4.046  4.052  149299   4.812442  4.152714\n",
       "120  2025-03-20  3.975  4.247  3.955  4.209  185932  -6.404528  4.084429\n",
       "121  2025-03-21  3.980  4.045  3.864  3.961  125273   0.125789  4.069571\n",
       "122  2025-03-24  3.914  4.012  3.862  3.880   78987  -1.658291  4.041429\n",
       "123  2025-03-25  3.888  3.908  3.857  3.866     809  -0.664283  4.010571\n",
       "\n",
       "[124 rows x 8 columns]"
      ]
     },
     "execution_count": 27,
     "metadata": {},
     "output_type": "execute_result"
    }
   ],
   "source": [
    "filename = 'Natural_Gas.csv'\n",
    "df = pd.read_csv(f\"data/{filename}\", parse_dates=True)\n",
    "df "
   ]
  },
  {
   "cell_type": "code",
   "execution_count": null,
   "metadata": {},
   "outputs": [],
   "source": []
  }
 ],
 "metadata": {
  "kernelspec": {
   "display_name": "venv",
   "language": "python",
   "name": "python3"
  },
  "language_info": {
   "codemirror_mode": {
    "name": "ipython",
    "version": 3
   },
   "file_extension": ".py",
   "mimetype": "text/x-python",
   "name": "python",
   "nbconvert_exporter": "python",
   "pygments_lexer": "ipython3",
   "version": "3.11.4"
  }
 },
 "nbformat": 4,
 "nbformat_minor": 2
}
